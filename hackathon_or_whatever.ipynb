{
 "cells": [
  {
   "cell_type": "code",
   "execution_count": 9,
   "id": "42e772b4-6c6e-4cbe-8ef3-7e5989ce3209",
   "metadata": {},
   "outputs": [],
   "source": [
    "import pandas as pd\n",
    "\n",
    "read_file = pd.read_csv('10M_passwords.txt')\n",
    "read_file.to_csv('passwords.csv', index = None)"
   ]
  },
  {
   "cell_type": "code",
   "execution_count": 12,
   "id": "55fc6f29-cf29-4638-88e9-f05238d5018d",
   "metadata": {},
   "outputs": [
    {
     "data": {
      "text/html": [
       "<div>\n",
       "<style scoped>\n",
       "    .dataframe tbody tr th:only-of-type {\n",
       "        vertical-align: middle;\n",
       "    }\n",
       "\n",
       "    .dataframe tbody tr th {\n",
       "        vertical-align: top;\n",
       "    }\n",
       "\n",
       "    .dataframe thead th {\n",
       "        text-align: right;\n",
       "    }\n",
       "</style>\n",
       "<table border=\"1\" class=\"dataframe\">\n",
       "  <thead>\n",
       "    <tr style=\"text-align: right;\">\n",
       "      <th></th>\n",
       "      <th>0</th>\n",
       "      <th>1</th>\n",
       "    </tr>\n",
       "  </thead>\n",
       "  <tbody>\n",
       "    <tr>\n",
       "      <th>0</th>\n",
       "      <td>0000</td>\n",
       "      <td>00000000</td>\n",
       "    </tr>\n",
       "    <tr>\n",
       "      <th>1</th>\n",
       "      <td>0000</td>\n",
       "      <td>00001</td>\n",
       "    </tr>\n",
       "    <tr>\n",
       "      <th>2</th>\n",
       "      <td>0000</td>\n",
       "      <td>00001111</td>\n",
       "    </tr>\n",
       "    <tr>\n",
       "      <th>3</th>\n",
       "      <td>0000</td>\n",
       "      <td>000099</td>\n",
       "    </tr>\n",
       "    <tr>\n",
       "      <th>4</th>\n",
       "      <td>0000</td>\n",
       "      <td>00009999</td>\n",
       "    </tr>\n",
       "    <tr>\n",
       "      <th>...</th>\n",
       "      <td>...</td>\n",
       "      <td>...</td>\n",
       "    </tr>\n",
       "    <tr>\n",
       "      <th>9999995</th>\n",
       "      <td>zzzzzzzzzy</td>\n",
       "      <td>zxcvbnm</td>\n",
       "    </tr>\n",
       "    <tr>\n",
       "      <th>9999996</th>\n",
       "      <td>zzzzzz.zzzz</td>\n",
       "      <td>RRRRR7</td>\n",
       "    </tr>\n",
       "    <tr>\n",
       "      <th>9999997</th>\n",
       "      <td>zzzzzzzzzz</td>\n",
       "      <td>zzzzzzzzzz</td>\n",
       "    </tr>\n",
       "    <tr>\n",
       "      <th>9999998</th>\n",
       "      <td>zzzzzzzzzz8070</td>\n",
       "      <td>011070</td>\n",
       "    </tr>\n",
       "    <tr>\n",
       "      <th>9999999</th>\n",
       "      <td>zzzzzzzzzz-o</td>\n",
       "      <td>huyyhuyy</td>\n",
       "    </tr>\n",
       "  </tbody>\n",
       "</table>\n",
       "<p>10000000 rows × 2 columns</p>\n",
       "</div>"
      ],
      "text/plain": [
       "                      0           1\n",
       "0                  0000    00000000\n",
       "1                  0000       00001\n",
       "2                  0000    00001111\n",
       "3                  0000      000099\n",
       "4                  0000    00009999\n",
       "...                 ...         ...\n",
       "9999995      zzzzzzzzzy     zxcvbnm\n",
       "9999996     zzzzzz.zzzz      RRRRR7\n",
       "9999997      zzzzzzzzzz  zzzzzzzzzz\n",
       "9999998  zzzzzzzzzz8070      011070\n",
       "9999999    zzzzzzzzzz-o    huyyhuyy\n",
       "\n",
       "[10000000 rows x 2 columns]"
      ]
     },
     "execution_count": 12,
     "metadata": {},
     "output_type": "execute_result"
    }
   ],
   "source": [
    "df = pd.read_csv ('passwords.csv', sep = '\\t', header = None)\n",
    "df"
   ]
  },
  {
   "cell_type": "code",
   "execution_count": 13,
   "id": "e8f6ae0c-fd4e-4f43-8cff-f8d2bd421133",
   "metadata": {},
   "outputs": [
    {
     "data": {
      "text/html": [
       "<div>\n",
       "<style scoped>\n",
       "    .dataframe tbody tr th:only-of-type {\n",
       "        vertical-align: middle;\n",
       "    }\n",
       "\n",
       "    .dataframe tbody tr th {\n",
       "        vertical-align: top;\n",
       "    }\n",
       "\n",
       "    .dataframe thead th {\n",
       "        text-align: right;\n",
       "    }\n",
       "</style>\n",
       "<table border=\"1\" class=\"dataframe\">\n",
       "  <thead>\n",
       "    <tr style=\"text-align: right;\">\n",
       "      <th></th>\n",
       "      <th>username</th>\n",
       "      <th>password</th>\n",
       "    </tr>\n",
       "  </thead>\n",
       "  <tbody>\n",
       "    <tr>\n",
       "      <th>0</th>\n",
       "      <td>0000</td>\n",
       "      <td>00000000</td>\n",
       "    </tr>\n",
       "    <tr>\n",
       "      <th>1</th>\n",
       "      <td>0000</td>\n",
       "      <td>00001</td>\n",
       "    </tr>\n",
       "    <tr>\n",
       "      <th>2</th>\n",
       "      <td>0000</td>\n",
       "      <td>00001111</td>\n",
       "    </tr>\n",
       "    <tr>\n",
       "      <th>3</th>\n",
       "      <td>0000</td>\n",
       "      <td>000099</td>\n",
       "    </tr>\n",
       "    <tr>\n",
       "      <th>4</th>\n",
       "      <td>0000</td>\n",
       "      <td>00009999</td>\n",
       "    </tr>\n",
       "    <tr>\n",
       "      <th>...</th>\n",
       "      <td>...</td>\n",
       "      <td>...</td>\n",
       "    </tr>\n",
       "    <tr>\n",
       "      <th>9999995</th>\n",
       "      <td>zzzzzzzzzy</td>\n",
       "      <td>zxcvbnm</td>\n",
       "    </tr>\n",
       "    <tr>\n",
       "      <th>9999996</th>\n",
       "      <td>zzzzzz.zzzz</td>\n",
       "      <td>RRRRR7</td>\n",
       "    </tr>\n",
       "    <tr>\n",
       "      <th>9999997</th>\n",
       "      <td>zzzzzzzzzz</td>\n",
       "      <td>zzzzzzzzzz</td>\n",
       "    </tr>\n",
       "    <tr>\n",
       "      <th>9999998</th>\n",
       "      <td>zzzzzzzzzz8070</td>\n",
       "      <td>011070</td>\n",
       "    </tr>\n",
       "    <tr>\n",
       "      <th>9999999</th>\n",
       "      <td>zzzzzzzzzz-o</td>\n",
       "      <td>huyyhuyy</td>\n",
       "    </tr>\n",
       "  </tbody>\n",
       "</table>\n",
       "<p>10000000 rows × 2 columns</p>\n",
       "</div>"
      ],
      "text/plain": [
       "               username    password\n",
       "0                  0000    00000000\n",
       "1                  0000       00001\n",
       "2                  0000    00001111\n",
       "3                  0000      000099\n",
       "4                  0000    00009999\n",
       "...                 ...         ...\n",
       "9999995      zzzzzzzzzy     zxcvbnm\n",
       "9999996     zzzzzz.zzzz      RRRRR7\n",
       "9999997      zzzzzzzzzz  zzzzzzzzzz\n",
       "9999998  zzzzzzzzzz8070      011070\n",
       "9999999    zzzzzzzzzz-o    huyyhuyy\n",
       "\n",
       "[10000000 rows x 2 columns]"
      ]
     },
     "execution_count": 13,
     "metadata": {},
     "output_type": "execute_result"
    }
   ],
   "source": [
    "df.columns = ['username','password']\n",
    "df"
   ]
  },
  {
   "cell_type": "markdown",
   "id": "59ae1d80-d85d-47c4-8f7a-e7e5a095ac9b",
   "metadata": {},
   "source": [
    "Password Length Analysis"
   ]
  },
  {
   "cell_type": "code",
   "execution_count": 21,
   "id": "eb895835-3c85-49b2-8583-6c6b82884f4e",
   "metadata": {},
   "outputs": [
    {
     "data": {
      "text/html": [
       "<div>\n",
       "<style scoped>\n",
       "    .dataframe tbody tr th:only-of-type {\n",
       "        vertical-align: middle;\n",
       "    }\n",
       "\n",
       "    .dataframe tbody tr th {\n",
       "        vertical-align: top;\n",
       "    }\n",
       "\n",
       "    .dataframe thead th {\n",
       "        text-align: right;\n",
       "    }\n",
       "</style>\n",
       "<table border=\"1\" class=\"dataframe\">\n",
       "  <thead>\n",
       "    <tr style=\"text-align: right;\">\n",
       "      <th></th>\n",
       "      <th>username</th>\n",
       "      <th>password</th>\n",
       "      <th>pw_len</th>\n",
       "    </tr>\n",
       "  </thead>\n",
       "  <tbody>\n",
       "    <tr>\n",
       "      <th>0</th>\n",
       "      <td>0000</td>\n",
       "      <td>00000000</td>\n",
       "      <td>8.0</td>\n",
       "    </tr>\n",
       "    <tr>\n",
       "      <th>1</th>\n",
       "      <td>0000</td>\n",
       "      <td>00001</td>\n",
       "      <td>5.0</td>\n",
       "    </tr>\n",
       "    <tr>\n",
       "      <th>2</th>\n",
       "      <td>0000</td>\n",
       "      <td>00001111</td>\n",
       "      <td>8.0</td>\n",
       "    </tr>\n",
       "    <tr>\n",
       "      <th>3</th>\n",
       "      <td>0000</td>\n",
       "      <td>000099</td>\n",
       "      <td>6.0</td>\n",
       "    </tr>\n",
       "    <tr>\n",
       "      <th>4</th>\n",
       "      <td>0000</td>\n",
       "      <td>00009999</td>\n",
       "      <td>8.0</td>\n",
       "    </tr>\n",
       "    <tr>\n",
       "      <th>...</th>\n",
       "      <td>...</td>\n",
       "      <td>...</td>\n",
       "      <td>...</td>\n",
       "    </tr>\n",
       "    <tr>\n",
       "      <th>9999995</th>\n",
       "      <td>zzzzzzzzzy</td>\n",
       "      <td>zxcvbnm</td>\n",
       "      <td>7.0</td>\n",
       "    </tr>\n",
       "    <tr>\n",
       "      <th>9999996</th>\n",
       "      <td>zzzzzz.zzzz</td>\n",
       "      <td>RRRRR7</td>\n",
       "      <td>6.0</td>\n",
       "    </tr>\n",
       "    <tr>\n",
       "      <th>9999997</th>\n",
       "      <td>zzzzzzzzzz</td>\n",
       "      <td>zzzzzzzzzz</td>\n",
       "      <td>10.0</td>\n",
       "    </tr>\n",
       "    <tr>\n",
       "      <th>9999998</th>\n",
       "      <td>zzzzzzzzzz8070</td>\n",
       "      <td>011070</td>\n",
       "      <td>6.0</td>\n",
       "    </tr>\n",
       "    <tr>\n",
       "      <th>9999999</th>\n",
       "      <td>zzzzzzzzzz-o</td>\n",
       "      <td>huyyhuyy</td>\n",
       "      <td>8.0</td>\n",
       "    </tr>\n",
       "  </tbody>\n",
       "</table>\n",
       "<p>10000000 rows × 3 columns</p>\n",
       "</div>"
      ],
      "text/plain": [
       "               username    password  pw_len\n",
       "0                  0000    00000000     8.0\n",
       "1                  0000       00001     5.0\n",
       "2                  0000    00001111     8.0\n",
       "3                  0000      000099     6.0\n",
       "4                  0000    00009999     8.0\n",
       "...                 ...         ...     ...\n",
       "9999995      zzzzzzzzzy     zxcvbnm     7.0\n",
       "9999996     zzzzzz.zzzz      RRRRR7     6.0\n",
       "9999997      zzzzzzzzzz  zzzzzzzzzz    10.0\n",
       "9999998  zzzzzzzzzz8070      011070     6.0\n",
       "9999999    zzzzzzzzzz-o    huyyhuyy     8.0\n",
       "\n",
       "[10000000 rows x 3 columns]"
      ]
     },
     "execution_count": 21,
     "metadata": {},
     "output_type": "execute_result"
    }
   ],
   "source": [
    "df['pw_len'] = df['password'].str.len()\n",
    "df"
   ]
  },
  {
   "cell_type": "code",
   "execution_count": 29,
   "id": "ec6d6fd0-61d4-45a0-b6fd-9a069ae24208",
   "metadata": {},
   "outputs": [
    {
     "data": {
      "text/plain": [
       "(array([2.000000e+00, 5.930000e+03, 3.451020e+05, 4.949920e+05,\n",
       "        2.543976e+06, 1.662849e+06, 2.980863e+06, 6.808150e+05,\n",
       "        4.712890e+05, 2.634660e+05, 1.909970e+05, 1.355870e+05,\n",
       "        7.697600e+04, 5.423700e+04, 4.023000e+04, 1.529400e+04,\n",
       "        1.198500e+04, 7.520000e+03, 6.231000e+03, 3.100000e+03,\n",
       "        2.218000e+03, 1.297000e+03, 1.044000e+03, 5.740000e+02,\n",
       "        4.680000e+02, 2.690000e+02, 2.630000e+02, 1.140000e+02,\n",
       "        1.100000e+02, 4.100000e+01, 9.000000e+00, 1.900000e+01,\n",
       "        1.500000e+01, 1.200000e+01, 1.600000e+01, 1.100000e+01,\n",
       "        1.300000e+01, 6.000000e+00, 3.000000e+00, 2.000000e+00]),\n",
       " array([ 2.,  3.,  4.,  5.,  6.,  7.,  8.,  9., 10., 11., 12., 13., 14.,\n",
       "        15., 16., 17., 18., 19., 20., 21., 22., 23., 24., 25., 26., 27.,\n",
       "        28., 29., 30., 31., 32., 33., 34., 35., 36., 37., 38., 39., 40.,\n",
       "        41., 42.]),\n",
       " <BarContainer object of 40 artists>)"
      ]
     },
     "execution_count": 29,
     "metadata": {},
     "output_type": "execute_result"
    },
    {
     "data": {
      "image/png": "[encoded data removed]",
      "text/plain": [
       "<Figure size 432x288 with 1 Axes>"
      ]
     },
     "metadata": {
      "needs_background": "light"
     },
     "output_type": "display_data"
    }
   ],
   "source": [
    "import matplotlib.pyplot as plt\n",
    "import numpy as np\n",
    "plt.hist(df['pw_len'], bins=np.arange(min(df['pw_len']),max(df['pw_len'])+1))"
   ]
  },
  {
   "cell_type": "markdown",
   "id": "07245775-dd87-4676-9e5d-c663dfb4e166",
   "metadata": {},
   "source": [
    "- slight positive skew of the password lengths\n",
    "- min password length is 2 and max is 42"
   ]
  },
  {
   "cell_type": "markdown",
   "id": "928f13be-6243-4ecb-ae0e-3ac2f388fcf7",
   "metadata": {},
   "source": [
    "# List of top ten Most Frequent Unique Passwords"
   ]
  },
  {
   "cell_type": "code",
   "execution_count": 32,
   "id": "132b0cc1-3bf6-45dc-9efb-ce42614a4a43",
   "metadata": {},
   "outputs": [
    {
     "data": {
      "text/plain": [
       "username    8295406\n",
       "password    5189393\n",
       "pw_len           41\n",
       "dtype: int64"
      ]
     },
     "execution_count": 32,
     "metadata": {},
     "output_type": "execute_result"
    }
   ],
   "source": [
    "df.nunique()"
   ]
  },
  {
   "cell_type": "code",
   "execution_count": 38,
   "id": "9ea42e75-d471-4881-9adc-13d435f08048",
   "metadata": {},
   "outputs": [
    {
     "data": {
      "text/plain": [
       "password\n",
       "!!!!!            2\n",
       "!!!!!!           8\n",
       "!!!!!!!          5\n",
       "!!!!!!55         1\n",
       "!!!!!25          1\n",
       "                ..\n",
       "~~~~             2\n",
       "~~~~~            1\n",
       "~~~~~s           1\n",
       "~~~~~~           2\n",
       "~~~~~~~~~~~~~    1\n",
       "Name: username, Length: 5189393, dtype: int64"
      ]
     },
     "execution_count": 38,
     "metadata": {},
     "output_type": "execute_result"
    }
   ],
   "source": [
    "count_unique_pw = df.groupby('password')['username'].count()\n",
    "count_unique_pw"
   ]
  },
  {
   "cell_type": "code",
   "execution_count": 48,
   "id": "34be9779-701e-44de-bca3-727bb75b05ce",
   "metadata": {},
   "outputs": [
    {
     "data": {
      "text/html": [
       "<div>\n",
       "<style scoped>\n",
       "    .dataframe tbody tr th:only-of-type {\n",
       "        vertical-align: middle;\n",
       "    }\n",
       "\n",
       "    .dataframe tbody tr th {\n",
       "        vertical-align: top;\n",
       "    }\n",
       "\n",
       "    .dataframe thead th {\n",
       "        text-align: right;\n",
       "    }\n",
       "</style>\n",
       "<table border=\"1\" class=\"dataframe\">\n",
       "  <thead>\n",
       "    <tr style=\"text-align: right;\">\n",
       "      <th></th>\n",
       "      <th>username</th>\n",
       "    </tr>\n",
       "    <tr>\n",
       "      <th>password</th>\n",
       "      <th></th>\n",
       "    </tr>\n",
       "  </thead>\n",
       "  <tbody>\n",
       "    <tr>\n",
       "      <th>123456</th>\n",
       "      <td>55893</td>\n",
       "    </tr>\n",
       "    <tr>\n",
       "      <th>password</th>\n",
       "      <td>19580</td>\n",
       "    </tr>\n",
       "    <tr>\n",
       "      <th>12345678</th>\n",
       "      <td>13582</td>\n",
       "    </tr>\n",
       "    <tr>\n",
       "      <th>qwerty</th>\n",
       "      <td>13137</td>\n",
       "    </tr>\n",
       "    <tr>\n",
       "      <th>123456789</th>\n",
       "      <td>11696</td>\n",
       "    </tr>\n",
       "    <tr>\n",
       "      <th>12345</th>\n",
       "      <td>10938</td>\n",
       "    </tr>\n",
       "    <tr>\n",
       "      <th>1234</th>\n",
       "      <td>6431</td>\n",
       "    </tr>\n",
       "    <tr>\n",
       "      <th>111111</th>\n",
       "      <td>5682</td>\n",
       "    </tr>\n",
       "    <tr>\n",
       "      <th>1234567</th>\n",
       "      <td>4796</td>\n",
       "    </tr>\n",
       "    <tr>\n",
       "      <th>dragon</th>\n",
       "      <td>3927</td>\n",
       "    </tr>\n",
       "  </tbody>\n",
       "</table>\n",
       "</div>"
      ],
      "text/plain": [
       "           username\n",
       "password           \n",
       "123456        55893\n",
       "password      19580\n",
       "12345678      13582\n",
       "qwerty        13137\n",
       "123456789     11696\n",
       "12345         10938\n",
       "1234           6431\n",
       "111111         5682\n",
       "1234567        4796\n",
       "dragon         3927"
      ]
     },
     "execution_count": 48,
     "metadata": {},
     "output_type": "execute_result"
    }
   ],
   "source": [
    "unique_pw = pd.DataFrame(count_unique_pw).sort_values(by=['username'], ascending=False)\n",
    "unique_pw.head(10)"
   ]
  },
  {
   "cell_type": "code",
   "execution_count": null,
   "id": "9eb4c66e-f988-4f5f-b39e-750ee8370964",
   "metadata": {},
   "outputs": [],
   "source": []
  }
 ],
 "metadata": {
  "kernelspec": {
   "display_name": "Python 3",
   "language": "python",
   "name": "python3"
  },
  "language_info": {
   "codemirror_mode": {
    "name": "ipython",
    "version": 3
   },
   "file_extension": ".py",
   "mimetype": "text/x-python",
   "name": "python",
   "nbconvert_exporter": "python",
   "pygments_lexer": "ipython3",
   "version": "3.8.8"
  }
 },
 "nbformat": 4,
 "nbformat_minor": 5
}
